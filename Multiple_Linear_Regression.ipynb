{
  "nbformat": 4,
  "nbformat_minor": 0,
  "metadata": {
    "colab": {
      "provenance": []
    },
    "kernelspec": {
      "name": "python3",
      "display_name": "Python 3"
    },
    "language_info": {
      "name": "python"
    }
  },
  "cells": [
    {
      "cell_type": "code",
      "execution_count": 1,
      "metadata": {
        "colab": {
          "base_uri": "https://localhost:8080/"
        },
        "id": "oQm7lU0Glhny",
        "outputId": "74df440b-1db0-4ebb-8515-e8fac1af22a3"
      },
      "outputs": [
        {
          "output_type": "stream",
          "name": "stdout",
          "text": [
            "      CRIM    ZN  INDUS  CHAS    NOX     RM   AGE     DIS  RAD  TAX  PTRATIO  \\\n",
            "0  0.00632  18.0   2.31   0.0  0.538  6.575  65.2  4.0900    1  296     15.3   \n",
            "1  0.02731   0.0   7.07   0.0  0.469  6.421  78.9  4.9671    2  242     17.8   \n",
            "2  0.02729   0.0   7.07   0.0  0.469  7.185  61.1  4.9671    2  242     17.8   \n",
            "3  0.03237   0.0   2.18   0.0  0.458  6.998  45.8  6.0622    3  222     18.7   \n",
            "4  0.06905   0.0   2.18   0.0  0.458  7.147  54.2  6.0622    3  222     18.7   \n",
            "\n",
            "        B  LSTAT  MEDV  \n",
            "0  396.90   4.98  24.0  \n",
            "1  396.90   9.14  21.6  \n",
            "2  392.83   4.03  34.7  \n",
            "3  394.63   2.94  33.4  \n",
            "4  396.90    NaN  36.2  \n",
            "                            OLS Regression Results                            \n",
            "==============================================================================\n",
            "Dep. Variable:                   MEDV   R-squared:                       0.610\n",
            "Model:                            OLS   Adj. R-squared:                  0.607\n",
            "Method:                 Least Squares   F-statistic:                     203.6\n",
            "Date:                Tue, 03 Sep 2024   Prob (F-statistic):           1.88e-79\n",
            "Time:                        06:33:25   Log-Likelihood:                -1244.8\n",
            "No. Observations:                 394   AIC:                             2498.\n",
            "Df Residuals:                     390   BIC:                             2514.\n",
            "Df Model:                           3                                         \n",
            "Covariance Type:            nonrobust                                         \n",
            "==============================================================================\n",
            "                 coef    std err          t      P>|t|      [0.025      0.975]\n",
            "------------------------------------------------------------------------------\n",
            "const        -24.9931      2.986     -8.369      0.000     -30.865     -19.122\n",
            "RM             8.3160      0.433     19.215      0.000       7.465       9.167\n",
            "CRIM          -0.1887      0.034     -5.579      0.000      -0.255      -0.122\n",
            "AGE           -0.0606      0.011     -5.398      0.000      -0.083      -0.039\n",
            "==============================================================================\n",
            "Omnibus:                      153.606   Durbin-Watson:                   0.959\n",
            "Prob(Omnibus):                  0.000   Jarque-Bera (JB):             1018.930\n",
            "Skew:                           1.501   Prob(JB):                    5.52e-222\n",
            "Kurtosis:                      10.284   Cond. No.                         781.\n",
            "==============================================================================\n",
            "\n",
            "Notes:\n",
            "[1] Standard Errors assume that the covariance matrix of the errors is correctly specified.\n"
          ]
        }
      ],
      "source": [
        "import pandas as pd\n",
        "import statsmodels.api as sm\n",
        "\n",
        "# Load the Boston Housing dataset\n",
        "boston_data = pd.read_csv('/content/HousingData.csv')\n",
        "\n",
        "# Display the first few rows to understand the structure of the dataset\n",
        "print(boston_data.head())\n",
        "\n",
        "# Handle missing values if any (replace '?' with NaN and drop rows with NaN values)\n",
        "boston_data.replace('?', pd.NA, inplace=True)\n",
        "boston_data.dropna(inplace=True)\n",
        "\n",
        "# Convert relevant columns to numeric types (assuming all relevant columns are numeric)\n",
        "# If there are columns that need conversion, uncomment and adapt the following line:\n",
        "# boston_data = boston_data.apply(pd.to_numeric, errors='ignore')\n",
        "\n",
        "# Define the independent variables (select relevant features)\n",
        "# For example, we'll use 'RM' (average number of rooms), 'CRIM' (per capita crime rate by town), and 'AGE' (proportion of owner-occupied units built prior to 1940)\n",
        "X = boston_data[['RM', 'CRIM', 'AGE']]\n",
        "\n",
        "# Define the dependent variable\n",
        "Y = boston_data['MEDV']  # MEDV is the median value of owner-occupied homes in $1000s\n",
        "\n",
        "# Add a constant term to the independent variables (intercept)\n",
        "X = sm.add_constant(X)\n",
        "\n",
        "# Fit the multiple linear regression model\n",
        "model = sm.OLS(Y, X).fit()\n",
        "\n",
        "# Print the summary of the regression model\n",
        "print(model.summary())\n"
      ]
    }
  ]
}